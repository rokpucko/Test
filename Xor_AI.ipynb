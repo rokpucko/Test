{
  "nbformat": 4,
  "nbformat_minor": 0,
  "metadata": {
    "colab": {
      "name": "Xor-AI.ipynb",
      "provenance": [],
      "authorship_tag": "ABX9TyPkpoYQ03Usc/9lZTDS4COj",
      "include_colab_link": true
    },
    "kernelspec": {
      "name": "python3",
      "display_name": "Python 3"
    }
  },
  "cells": [
    {
      "cell_type": "markdown",
      "metadata": {
        "id": "view-in-github",
        "colab_type": "text"
      },
      "source": [
        "<a href=\"https://colab.research.google.com/github/rokpucko/Test/blob/main/Xor_AI.ipynb\" target=\"_parent\"><img src=\"https://colab.research.google.com/assets/colab-badge.svg\" alt=\"Open In Colab\"/></a>"
      ]
    },
    {
      "cell_type": "code",
      "metadata": {
        "id": "Iev4CdQAmZy7"
      },
      "source": [
        "import numpy as np"
      ],
      "execution_count": 1,
      "outputs": []
    },
    {
      "cell_type": "code",
      "metadata": {
        "id": "Xe1NDICd18es"
      },
      "source": [
        "def sigmoid(x):\r\n",
        "  return 1 / (1 + np.exp(-x))"
      ],
      "execution_count": 58,
      "outputs": []
    },
    {
      "cell_type": "code",
      "metadata": {
        "colab": {
          "base_uri": "https://localhost:8080/"
        },
        "id": "2FoEJN_Hmo9W",
        "outputId": "b6d62af2-2cb4-4b06-c363-3bf391107003"
      },
      "source": [
        "vhodi = np.array([[0,1,1],\r\n",
        "                  [1,0,1],\r\n",
        "                  [1,1,1],\r\n",
        "                  [0,0,1]])\r\n",
        "for x in inputs: print(x)"
      ],
      "execution_count": 77,
      "outputs": [
        {
          "output_type": "stream",
          "text": [
            "[0 1]\n",
            "[1 0]\n",
            "[1 1]\n",
            "[0 0]\n"
          ],
          "name": "stdout"
        }
      ]
    },
    {
      "cell_type": "code",
      "metadata": {
        "colab": {
          "base_uri": "https://localhost:8080/"
        },
        "id": "06yzEyAQrMPS",
        "outputId": "997149be-8d0b-44a4-d6e6-ee401b72ef3c"
      },
      "source": [
        "izhodi= np.array([[1,1,0,0]]).T\r\n",
        "for i in izhodi: print(i)"
      ],
      "execution_count": 48,
      "outputs": [
        {
          "output_type": "stream",
          "text": [
            "[1]\n",
            "[1]\n",
            "[0]\n",
            "[0]\n"
          ],
          "name": "stdout"
        }
      ]
    },
    {
      "cell_type": "code",
      "metadata": {
        "colab": {
          "base_uri": "https://localhost:8080/"
        },
        "id": "-DPN-TrsySY4",
        "outputId": "6ce7f523-fcae-4248-ea33-62e78d07fa16"
      },
      "source": [
        "np.random.seed(1)\r\n",
        "synaptic_weights= 2 * np.random.random((3,1)) - 1\r\n",
        "for i in synaptic_weights: print(i)"
      ],
      "execution_count": 84,
      "outputs": [
        {
          "output_type": "stream",
          "text": [
            "[-0.16595599]\n",
            "[0.44064899]\n",
            "[-0.99977125]\n"
          ],
          "name": "stdout"
        }
      ]
    },
    {
      "cell_type": "code",
      "metadata": {
        "id": "HCgy1uJI0if3"
      },
      "source": [
        "for iteration in range(1):\r\n",
        "\r\n",
        "  vhodni_sloj = vhodi\r\n",
        "\r\n",
        "  izhodi = sigmoid(np.dot(vhodni_sloj, synaptic_weights))"
      ],
      "execution_count": 78,
      "outputs": []
    },
    {
      "cell_type": "code",
      "metadata": {
        "colab": {
          "base_uri": "https://localhost:8080/"
        },
        "id": "NZ9yWsRn5BNm",
        "outputId": "caf6b06c-add6-4a78-b0ff-cf0d19ba818a"
      },
      "source": [
        "print('Izhodi po treniranju so: \\n', izhodi)\r\n"
      ],
      "execution_count": 71,
      "outputs": [
        {
          "output_type": "stream",
          "text": [
            "Izhodi po treniranju so: \n",
            " [[0.36375058]\n",
            " [0.23762817]\n",
            " [0.3262757 ]\n",
            " [0.2689864 ]]\n"
          ],
          "name": "stdout"
        }
      ]
    }
  ]
}